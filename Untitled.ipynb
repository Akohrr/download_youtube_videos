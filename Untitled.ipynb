{
 "cells": [
  {
   "cell_type": "code",
   "execution_count": 45,
   "metadata": {},
   "outputs": [],
   "source": [
    "common_artists = {\n",
    "    \"bda\": \"Bishop David Abioye\",\n",
    "    \"peaa\": \"Pastor E.A. Adeboye\",\n",
    "    \"bdo\": \"Bishop David Oyedepo\",\n",
    "    \"ajsn\": \"Apostle Joshua Selman Nimmak\",\n",
    "    \n",
    "}\n",
    "\n",
    "# if album is unknown for a song, use singles\n",
    "\n",
    "songs_to_download = [\n",
    "    {\n",
    "        \"youtube_url\": \"https://youtu.be/Ky-a01Kib-I\",\n",
    "        \"title\": \"Holiness SEP 2020 Series Pt. 1a\",\n",
    "        \"artist\": common_artists[\"bdo\"],\n",
    "        \"album\": \"Sermons\",\n",
    "        \"album_artist\": common_artists[\"bdo\"],\n",
    "        \"track_num\": 1,\n",
    "        \"postprocessor_args\":[],#['-ss', '00:56:34', '-to', '02:03:09'],\n",
    "    },\n",
    "    \n",
    "]\n"
   ]
  },
  {
   "cell_type": "code",
   "execution_count": 43,
   "metadata": {},
   "outputs": [
    {
     "name": "stdout",
     "output_type": "stream",
     "text": [
      "Downloading 1 out of 1\n",
      "Done downloading, now converting ...\n"
     ]
    }
   ],
   "source": [
    "import youtube_dl\n",
    "\n",
    "class MyLogger(object):\n",
    "    def debug(self, msg):\n",
    "        pass\n",
    "\n",
    "    def warning(self, msg):\n",
    "        pass\n",
    "\n",
    "    def error(self, msg):\n",
    "        print(msg)\n",
    "\n",
    "\n",
    "def my_hook(d):\n",
    "    if d['status'] == 'finished':\n",
    "        print('Done downloading, now converting ...')\n",
    "\n",
    "for idx, song in enumerate(songs_to_download):\n",
    "    print(f\"Downloading {idx+1} out of {len(songs_to_download)}\")\n",
    "    ydl_opts = {\n",
    "        'restrictfilenames': True,\n",
    "        'format': 'bestaudio/best',\n",
    "        'outtmpl': song['title'] +'.%(ext)s',\n",
    "        'postprocessors': [{\n",
    "            'key': 'FFmpegExtractAudio',\n",
    "            'preferredcodec': 'mp3',\n",
    "            'preferredquality': '192',\n",
    "        }],\n",
    "        'postprocessor_args':song['postprocessor_args'],\n",
    "        'logger': MyLogger(),\n",
    "        'progress_hooks': [my_hook],\n",
    "    }\n",
    "    with youtube_dl.YoutubeDL(ydl_opts) as ydl:\n",
    "        ydl.download([song['youtube_url']])"
   ]
  },
  {
   "cell_type": "code",
   "execution_count": 46,
   "metadata": {},
   "outputs": [],
   "source": [
    "import eyed3\n",
    "\n",
    "for song in songs_to_download:\n",
    "    audiofile = eyed3.load(f\"{song['title']}.mp3\")\n",
    "    audiofile.tag.artist = song[\"artist\"]\n",
    "    audiofile.tag.album = song[\"album\"]\n",
    "    audiofile.tag.album_artist = song[\"album_artist\"]\n",
    "    audiofile.tag.title = song[\"title\"]\n",
    "    audiofile.tag.track_num = song[\"track_num\"]\n",
    "    audiofile.tag.save()\n",
    "    "
   ]
  },
  {
   "cell_type": "code",
   "execution_count": null,
   "metadata": {},
   "outputs": [],
   "source": []
  }
 ],
 "metadata": {
  "kernelspec": {
   "display_name": "Python 3.7.2 64-bit ('3.7.2': pyenv)",
   "language": "python",
   "name": "python37264bit372pyenvc59117589ab2459684912fde592d2ce1"
  },
  "language_info": {
   "codemirror_mode": {
    "name": "ipython",
    "version": 3
   },
   "file_extension": ".py",
   "mimetype": "text/x-python",
   "name": "python",
   "nbconvert_exporter": "python",
   "pygments_lexer": "ipython3",
   "version": "3.7.2"
  }
 },
 "nbformat": 4,
 "nbformat_minor": 4
}
